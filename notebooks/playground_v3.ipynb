{
 "cells": [
  {
   "cell_type": "code",
   "execution_count": 210,
   "metadata": {},
   "outputs": [],
   "source": [
    "import networkx as nx\n",
    "from sklearn.cluster import DBSCAN, KMeans\n",
    "from sklearn.metrics import pairwise_distances, silhouette_samples, silhouette_score\n",
    "\n",
    "import numpy as np\n",
    "import pandas as pd\n",
    "from datetime import datetime\n",
    "\n",
    "from collections import Counter\n",
    "import itertools\n",
    "\n",
    "from math import comb, ceil\n",
    "import random\n",
    "import string\n",
    "\n",
    "import matplotlib.pyplot as plt\n",
    "import seaborn as sns\n",
    "\n",
    "from tqdm import tqdm\n",
    "\n",
    "import multiprocessing as mp\n",
    "\n",
    "import pickle\n",
    "\n",
    "import sys\n",
    "sys.path.insert(1, '../scripts')\n",
    "import modeling_v3\n",
    "\n",
    "import importlib\n",
    "importlib.reload(modeling_v3)\n",
    "\n",
    "import matplotlib.ticker as plticker\n",
    "plt.rcParams['font.family'] = 'serif'\n",
    "plt.rcParams['font.serif'] = ['Times New Roman'] + plt.rcParams['font.serif']\n",
    "plt.rcParams['font.size'] = 14"
   ]
  },
  {
   "cell_type": "code",
   "execution_count": 10,
   "metadata": {},
   "outputs": [],
   "source": [
    "import warnings\n",
    "warnings.filterwarnings('ignore')"
   ]
  },
  {
   "cell_type": "code",
   "execution_count": 259,
   "metadata": {},
   "outputs": [
    {
     "name": "stderr",
     "output_type": "stream",
     "text": [
      "100%|██████████| 6001/6001 [00:11<00:00, 514.85it/s]\n"
     ]
    }
   ],
   "source": [
    "sim_no = 0\n",
    "random_seed = np.random.randint(100000)\n",
    "n_beliefs = 6\n",
    "m = 6\n",
    "gamma = .8\n",
    "n_nodes_to_connect = 1\n",
    "n_agents = 2\n",
    "last_step = 6000\n",
    "is_composed = False\n",
    "\n",
    "results = modeling_v3.simulate_multiple_agents(sim_no, random_seed, n_beliefs, m, gamma, n_nodes_to_connect, n_agents, last_step, is_composed)"
   ]
  },
  {
   "cell_type": "code",
   "execution_count": 261,
   "metadata": {},
   "outputs": [],
   "source": [
    "import math"
   ]
  },
  {
   "cell_type": "code",
   "execution_count": 272,
   "metadata": {},
   "outputs": [],
   "source": [
    "def bayesian(e1, e2, association_matrix):\n",
    "    \n",
    "    evidence = association_matrix[f'-{e2[1]}'].sum() + association_matrix[f'+{e2[1]}'].sum()\n",
    "    joint_1 = association_matrix[f'+{e2[1]}'][f'+{e1[1]}'] + association_matrix[f'-{e2[1]}'][f'-{e1[1]}']\n",
    "    joint_2 = association_matrix[f'-{e2[1]}'][f'+{e1[1]}'] + association_matrix[f'+{e2[1]}'][f'-{e1[1]}']\n",
    "    \n",
    "    likelihood_pos_rel = joint_1/evidence\n",
    "    likelihood_neg_rel = joint_2/evidence\n",
    "    \n",
    "    return likelihood_pos_rel, likelihood_neg_rel"
   ]
  },
  {
   "cell_type": "code",
   "execution_count": 271,
   "metadata": {},
   "outputs": [],
   "source": [
    "b1 = np.random.choice(results['track'][last_step]['belief_networks'][0])\n",
    "b2 = "
   ]
  },
  {
   "cell_type": "code",
   "execution_count": 294,
   "metadata": {},
   "outputs": [],
   "source": [
    "matrik = results['track'][last_step]['association_matrix'][0]\n",
    "propositions = sorted(list(set([c[1] for c in matrik.columns])))"
   ]
  },
  {
   "cell_type": "code",
   "execution_count": 287,
   "metadata": {},
   "outputs": [
    {
     "data": {
      "text/plain": [
       "989"
      ]
     },
     "execution_count": 287,
     "metadata": {},
     "output_type": "execute_result"
    }
   ],
   "source": [
    "e1 = '+A'\n",
    "e2 = '+B'\n",
    "\n",
    "evidence = matrik[f'-{e2[1]}'].sum() + matrik[f'+{e2[1]}'].sum()\n",
    "evidence"
   ]
  },
  {
   "cell_type": "code",
   "execution_count": 356,
   "metadata": {},
   "outputs": [],
   "source": [
    "def compute_likelihoods(association_matrix, gamma):\n",
    "\n",
    "    joint_probabilities = {}\n",
    "    relationships = {}\n",
    "\n",
    "    propositions = list(set([c[1] for c in association_matrix.columns]))\n",
    "    pairs = [*itertools.combinations(propositions,2)]\n",
    "\n",
    "    for pair in pairs:\n",
    "        b1 = pair[0]\n",
    "        b2 = pair[1]\n",
    "        \n",
    "        evidence = association_matrix[f'-{b1}'].sum() + association_matrix[f'+{b1}'].sum()\n",
    "\n",
    "    for p in propositions:\n",
    "        if p!=b1:\n",
    "            joint_1 = association_matrix[f'+{b1}'][f'+{p}'] + association_matrix[f'-{b1}'][f'-{p}']\n",
    "            joint_2 = association_matrix[f'-{b1}'][f'+{p}'] + association_matrix[f'+{b1}'][f'-{p}']\n",
    "            \n",
    "            if joint_1 > joint_2:\n",
    "                relationships[p] = 1\n",
    "            else:\n",
    "                relationships[p] = \n",
    "\n",
    "            likelihoods[p] = (joint_1 + joint_2)/evidence\n",
    "\n",
    "    # determine the threshold\n",
    "    #threshold = np.percentile(np.array([*likelihoods.values()]), gamma*100)\n",
    "\n",
    "    # keep only the ones above the threshold\n",
    "    likelihoods# = {k:v for k,v in likelihoods.items() if v>=threshold}\n",
    "\n",
    "    return likelihoods"
   ]
  },
  {
   "cell_type": "code",
   "execution_count": 363,
   "metadata": {},
   "outputs": [],
   "source": [
    "propositions = sorted(list(set([c[1] for c in results['track'][4000]['association_matrix'][0].columns])))\n",
    "pairs = [*itertools.permutations(propositions,2)]"
   ]
  },
  {
   "cell_type": "code",
   "execution_count": 364,
   "metadata": {},
   "outputs": [
    {
     "data": {
      "text/plain": [
       "[('A', 'B'),\n",
       " ('A', 'C'),\n",
       " ('A', 'D'),\n",
       " ('A', 'E'),\n",
       " ('A', 'F'),\n",
       " ('B', 'A'),\n",
       " ('B', 'C'),\n",
       " ('B', 'D'),\n",
       " ('B', 'E'),\n",
       " ('B', 'F'),\n",
       " ('C', 'A'),\n",
       " ('C', 'B'),\n",
       " ('C', 'D'),\n",
       " ('C', 'E'),\n",
       " ('C', 'F'),\n",
       " ('D', 'A'),\n",
       " ('D', 'B'),\n",
       " ('D', 'C'),\n",
       " ('D', 'E'),\n",
       " ('D', 'F'),\n",
       " ('E', 'A'),\n",
       " ('E', 'B'),\n",
       " ('E', 'C'),\n",
       " ('E', 'D'),\n",
       " ('E', 'F'),\n",
       " ('F', 'A'),\n",
       " ('F', 'B'),\n",
       " ('F', 'C'),\n",
       " ('F', 'D'),\n",
       " ('F', 'E')]"
      ]
     },
     "execution_count": 364,
     "metadata": {},
     "output_type": "execute_result"
    }
   ],
   "source": [
    "for pair in pairs:\n",
    "        b1 = pair[0]\n",
    "        b2 = pair[1]\n",
    "        \n",
    "        evidence = association_matrix[f'-{b1}'].sum() + association_matrix[f'+{b1}'].sum()\n",
    "\n",
    "    for p in propositions:\n",
    "        if p!=b1:\n",
    "            joint_1 = association_matrix[f'+{b1}'][f'+{p}'] + association_matrix[f'-{b1}'][f'-{p}']\n",
    "            joint_2 = association_matrix[f'-{b1}'][f'+{p}'] + association_matrix[f'+{b1}'][f'-{p}']\n",
    "            \n",
    "            if joint_1 > joint_2:\n",
    "                relationships[p] = 1\n",
    "            else:\n",
    "                relationships[p] = \n",
    "\n",
    "            likelihoods[p] = (joint_1 + joint_2)/evidence"
   ]
  },
  {
   "cell_type": "code",
   "execution_count": 250,
   "metadata": {},
   "outputs": [
    {
     "data": {
      "text/plain": [
       "0"
      ]
     },
     "execution_count": 250,
     "metadata": {},
     "output_type": "execute_result"
    }
   ],
   "source": [
    "modeling_v3.infer_relationship({'e1':'+B','e2':'+F'}, results['track'][last_step]['association_matrix'][0], gamma=gamma)"
   ]
  },
  {
   "cell_type": "code",
   "execution_count": 348,
   "metadata": {},
   "outputs": [
    {
     "data": {
      "text/html": [
       "<div>\n",
       "<style scoped>\n",
       "    .dataframe tbody tr th:only-of-type {\n",
       "        vertical-align: middle;\n",
       "    }\n",
       "\n",
       "    .dataframe tbody tr th {\n",
       "        vertical-align: top;\n",
       "    }\n",
       "\n",
       "    .dataframe thead th {\n",
       "        text-align: right;\n",
       "    }\n",
       "</style>\n",
       "<table border=\"1\" class=\"dataframe\">\n",
       "  <thead>\n",
       "    <tr style=\"text-align: right;\">\n",
       "      <th></th>\n",
       "      <th>+A</th>\n",
       "      <th>-A</th>\n",
       "      <th>+B</th>\n",
       "      <th>-B</th>\n",
       "      <th>+C</th>\n",
       "      <th>-C</th>\n",
       "      <th>+D</th>\n",
       "      <th>-D</th>\n",
       "      <th>+E</th>\n",
       "      <th>-E</th>\n",
       "      <th>+F</th>\n",
       "      <th>-F</th>\n",
       "    </tr>\n",
       "  </thead>\n",
       "  <tbody>\n",
       "    <tr>\n",
       "      <th>+A</th>\n",
       "      <td>0</td>\n",
       "      <td>0</td>\n",
       "      <td>1</td>\n",
       "      <td>1</td>\n",
       "      <td>1</td>\n",
       "      <td>1</td>\n",
       "      <td>1</td>\n",
       "      <td>1</td>\n",
       "      <td>1</td>\n",
       "      <td>1</td>\n",
       "      <td>1</td>\n",
       "      <td>1</td>\n",
       "    </tr>\n",
       "    <tr>\n",
       "      <th>-A</th>\n",
       "      <td>0</td>\n",
       "      <td>0</td>\n",
       "      <td>81</td>\n",
       "      <td>34</td>\n",
       "      <td>1</td>\n",
       "      <td>129</td>\n",
       "      <td>3</td>\n",
       "      <td>119</td>\n",
       "      <td>130</td>\n",
       "      <td>10</td>\n",
       "      <td>115</td>\n",
       "      <td>16</td>\n",
       "    </tr>\n",
       "    <tr>\n",
       "      <th>+B</th>\n",
       "      <td>1</td>\n",
       "      <td>81</td>\n",
       "      <td>0</td>\n",
       "      <td>0</td>\n",
       "      <td>1</td>\n",
       "      <td>117</td>\n",
       "      <td>1</td>\n",
       "      <td>92</td>\n",
       "      <td>98</td>\n",
       "      <td>3</td>\n",
       "      <td>68</td>\n",
       "      <td>6</td>\n",
       "    </tr>\n",
       "    <tr>\n",
       "      <th>-B</th>\n",
       "      <td>1</td>\n",
       "      <td>34</td>\n",
       "      <td>0</td>\n",
       "      <td>0</td>\n",
       "      <td>1</td>\n",
       "      <td>37</td>\n",
       "      <td>3</td>\n",
       "      <td>34</td>\n",
       "      <td>35</td>\n",
       "      <td>1</td>\n",
       "      <td>17</td>\n",
       "      <td>14</td>\n",
       "    </tr>\n",
       "    <tr>\n",
       "      <th>+C</th>\n",
       "      <td>1</td>\n",
       "      <td>1</td>\n",
       "      <td>1</td>\n",
       "      <td>1</td>\n",
       "      <td>0</td>\n",
       "      <td>0</td>\n",
       "      <td>1</td>\n",
       "      <td>1</td>\n",
       "      <td>1</td>\n",
       "      <td>1</td>\n",
       "      <td>1</td>\n",
       "      <td>1</td>\n",
       "    </tr>\n",
       "    <tr>\n",
       "      <th>-C</th>\n",
       "      <td>1</td>\n",
       "      <td>129</td>\n",
       "      <td>117</td>\n",
       "      <td>37</td>\n",
       "      <td>0</td>\n",
       "      <td>0</td>\n",
       "      <td>1</td>\n",
       "      <td>131</td>\n",
       "      <td>150</td>\n",
       "      <td>7</td>\n",
       "      <td>107</td>\n",
       "      <td>16</td>\n",
       "    </tr>\n",
       "    <tr>\n",
       "      <th>+D</th>\n",
       "      <td>1</td>\n",
       "      <td>3</td>\n",
       "      <td>1</td>\n",
       "      <td>3</td>\n",
       "      <td>1</td>\n",
       "      <td>1</td>\n",
       "      <td>0</td>\n",
       "      <td>0</td>\n",
       "      <td>1</td>\n",
       "      <td>2</td>\n",
       "      <td>2</td>\n",
       "      <td>3</td>\n",
       "    </tr>\n",
       "    <tr>\n",
       "      <th>-D</th>\n",
       "      <td>1</td>\n",
       "      <td>119</td>\n",
       "      <td>92</td>\n",
       "      <td>34</td>\n",
       "      <td>1</td>\n",
       "      <td>131</td>\n",
       "      <td>0</td>\n",
       "      <td>0</td>\n",
       "      <td>120</td>\n",
       "      <td>3</td>\n",
       "      <td>133</td>\n",
       "      <td>16</td>\n",
       "    </tr>\n",
       "    <tr>\n",
       "      <th>+E</th>\n",
       "      <td>1</td>\n",
       "      <td>130</td>\n",
       "      <td>98</td>\n",
       "      <td>35</td>\n",
       "      <td>1</td>\n",
       "      <td>150</td>\n",
       "      <td>1</td>\n",
       "      <td>120</td>\n",
       "      <td>0</td>\n",
       "      <td>0</td>\n",
       "      <td>132</td>\n",
       "      <td>10</td>\n",
       "    </tr>\n",
       "    <tr>\n",
       "      <th>-E</th>\n",
       "      <td>1</td>\n",
       "      <td>10</td>\n",
       "      <td>3</td>\n",
       "      <td>1</td>\n",
       "      <td>1</td>\n",
       "      <td>7</td>\n",
       "      <td>2</td>\n",
       "      <td>3</td>\n",
       "      <td>0</td>\n",
       "      <td>0</td>\n",
       "      <td>1</td>\n",
       "      <td>9</td>\n",
       "    </tr>\n",
       "    <tr>\n",
       "      <th>+F</th>\n",
       "      <td>1</td>\n",
       "      <td>115</td>\n",
       "      <td>68</td>\n",
       "      <td>17</td>\n",
       "      <td>1</td>\n",
       "      <td>107</td>\n",
       "      <td>2</td>\n",
       "      <td>133</td>\n",
       "      <td>132</td>\n",
       "      <td>1</td>\n",
       "      <td>0</td>\n",
       "      <td>0</td>\n",
       "    </tr>\n",
       "    <tr>\n",
       "      <th>-F</th>\n",
       "      <td>1</td>\n",
       "      <td>16</td>\n",
       "      <td>6</td>\n",
       "      <td>14</td>\n",
       "      <td>1</td>\n",
       "      <td>16</td>\n",
       "      <td>3</td>\n",
       "      <td>16</td>\n",
       "      <td>10</td>\n",
       "      <td>9</td>\n",
       "      <td>0</td>\n",
       "      <td>0</td>\n",
       "    </tr>\n",
       "  </tbody>\n",
       "</table>\n",
       "</div>"
      ],
      "text/plain": [
       "    +A   -A   +B  -B  +C   -C  +D   -D   +E  -E   +F  -F\n",
       "+A   0    0    1   1   1    1   1    1    1   1    1   1\n",
       "-A   0    0   81  34   1  129   3  119  130  10  115  16\n",
       "+B   1   81    0   0   1  117   1   92   98   3   68   6\n",
       "-B   1   34    0   0   1   37   3   34   35   1   17  14\n",
       "+C   1    1    1   1   0    0   1    1    1   1    1   1\n",
       "-C   1  129  117  37   0    0   1  131  150   7  107  16\n",
       "+D   1    3    1   3   1    1   0    0    1   2    2   3\n",
       "-D   1  119   92  34   1  131   0    0  120   3  133  16\n",
       "+E   1  130   98  35   1  150   1  120    0   0  132  10\n",
       "-E   1   10    3   1   1    7   2    3    0   0    1   9\n",
       "+F   1  115   68  17   1  107   2  133  132   1    0   0\n",
       "-F   1   16    6  14   1   16   3   16   10   9    0   0"
      ]
     },
     "execution_count": 348,
     "metadata": {},
     "output_type": "execute_result"
    }
   ],
   "source": [
    "results['track'][4000]['association_matrix'][0]"
   ]
  },
  {
   "cell_type": "code",
   "execution_count": 166,
   "metadata": {},
   "outputs": [
    {
     "data": {
      "text/plain": [
       "array([[-1,  1,  1,  1,  1, -1,  1],\n",
       "       [-1,  1,  1,  1, -1,  1,  1]])"
      ]
     },
     "execution_count": 166,
     "metadata": {},
     "output_type": "execute_result"
    }
   ],
   "source": [
    "results['track'][3600]['belief_networks']"
   ]
  }
 ],
 "metadata": {
  "kernelspec": {
   "display_name": "prosocial",
   "language": "python",
   "name": "prosocial"
  },
  "language_info": {
   "codemirror_mode": {
    "name": "ipython",
    "version": 3
   },
   "file_extension": ".py",
   "mimetype": "text/x-python",
   "name": "python",
   "nbconvert_exporter": "python",
   "pygments_lexer": "ipython3",
   "version": "3.11.9"
  }
 },
 "nbformat": 4,
 "nbformat_minor": 2
}
